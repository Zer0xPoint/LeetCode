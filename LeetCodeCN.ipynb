{
 "cells": [
  {
   "cell_type": "code",
   "execution_count": 3,
   "metadata": {
    "collapsed": true
   },
   "outputs": [
    {
     "name": "stdout",
     "output_type": "stream",
     "text": [
      "[[3, 2, 1], [6, 5, 4], [9, 8, 7]]\n"
     ]
    }
   ],
   "source": [
    "# 90度顺时针旋转二位数组\n",
    "from typing import List\n",
    "\n",
    "\n",
    "def rotate(matrix: List[List[int]]) -> None:\n",
    "    \"\"\"\n",
    "    Do not return anything, modify matrix in-place instead.\n",
    "    \"\"\"\n",
    "    # 沿对角线翻转\n",
    "    for x in range(len(matrix)):\n",
    "        # 第一行交换x个数，第二行交换x-1个，故用x当作循环条件\n",
    "        for y in range(len(x)):\n",
    "            matrix[x][y], matrix[y][x] = matrix[y][x], matrix[x][y]\n",
    "    # 将第2维数组倒序排列\n",
    "    for x in range(len(matrix)):\n",
    "        matrix[x][:] = matrix[x][::-1]\n",
    "\n",
    "\n",
    "l = [[1, 2, 3], [4, 5, 6], [7, 8, 9]]\n",
    "rotate(l)\n",
    "print(l)"
   ]
  },
  {
   "cell_type": "code",
   "execution_count": 19,
   "outputs": [
    {
     "name": "stdout",
     "output_type": "stream",
     "text": [
      "[[0, 0, 0, 0], [0, 4, 5, 0], [0, 3, 1, 0]]\n"
     ]
    }
   ],
   "source": [
    "# 零矩阵\n",
    "\n",
    "\n",
    "def setZeroes(matrix: List[List[int]]) -> None:\n",
    "    \"\"\"\n",
    "    Do not return anything, modify matrix in-place instead.\n",
    "    \"\"\"\n",
    "    row_zer0_flag = [1 for _ in range(len(matrix))]\n",
    "    col_zer0_flag = [1 for _ in range(len(matrix[0]))]\n",
    "    for x in range(len(matrix)):\n",
    "        for y in range(len(matrix[0])):\n",
    "            if matrix[x][y] == 0:\n",
    "                row_zer0_flag[x], col_zer0_flag[y] = 0, 0\n",
    "\n",
    "    for x in range(len(matrix)):\n",
    "        for y in range(len(matrix[0])):\n",
    "            if not (row_zer0_flag[x] and col_zer0_flag[y]):\n",
    "                matrix[x][y] = 0\n",
    "\n",
    "\n",
    "l = [\n",
    "    [1, 1, 1],\n",
    "    [1, 0, 1],\n",
    "    [1, 1, 1]\n",
    "]\n",
    "l = [\n",
    "    [0, 1, 2, 0],\n",
    "    [3, 4, 5, 2],\n",
    "    [1, 3, 1, 5]\n",
    "]\n",
    "setZeroes(l)\n",
    "print(l)\n",
    "\n"
   ],
   "metadata": {
    "collapsed": false,
    "pycharm": {
     "name": "#%%\n"
    }
   }
  }
 ],
 "metadata": {
  "kernelspec": {
   "display_name": "Python 3",
   "language": "python",
   "name": "python3"
  },
  "language_info": {
   "codemirror_mode": {
    "name": "ipython",
    "version": 2
   },
   "file_extension": ".py",
   "mimetype": "text/x-python",
   "name": "python",
   "nbconvert_exporter": "python",
   "pygments_lexer": "ipython2",
   "version": "2.7.6"
  }
 },
 "nbformat": 4,
 "nbformat_minor": 0
}